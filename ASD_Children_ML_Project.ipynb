{
 "cells": [
  {
   "cell_type": "markdown",
   "metadata": {},
   "source": [
    "Load Data"
   ]
  },
  {
   "cell_type": "code",
   "execution_count": 26,
   "metadata": {},
   "outputs": [],
   "source": [
    "import pandas as pd\n",
    "import numpy as np\n",
    "import matplotlib.pyplot as plt\n",
    "import seaborn as sns\n",
    "from imblearn.over_sampling import SMOTE # type: ignore\n",
    "from sklearn.model_selection import train_test_split\n",
    "from sklearn.ensemble import RandomForestClassifier\n",
    "from sklearn.linear_model import LogisticRegression\n",
    "from sklearn.tree import DecisionTreeClassifier\n",
    "from sklearn.preprocessing import LabelEncoder, StandardScaler\n",
    "from sklearn.metrics import accuracy_score"
   ]
  },
  {
   "cell_type": "code",
   "execution_count": 27,
   "metadata": {},
   "outputs": [],
   "source": [
    "df = pd.read_csv(\"D:/DataScience/Project/data_csv.csv\")"
   ]
  },
  {
   "cell_type": "code",
   "execution_count": 28,
   "metadata": {},
   "outputs": [
    {
     "data": {
      "text/plain": [
       "(1985, 28)"
      ]
     },
     "execution_count": 28,
     "metadata": {},
     "output_type": "execute_result"
    }
   ],
   "source": [
    "df.shape"
   ]
  },
  {
   "cell_type": "code",
   "execution_count": 29,
   "metadata": {},
   "outputs": [
    {
     "name": "stdout",
     "output_type": "stream",
     "text": [
      "<class 'pandas.core.frame.DataFrame'>\n",
      "RangeIndex: 1985 entries, 0 to 1984\n",
      "Data columns (total 28 columns):\n",
      " #   Column                                              Non-Null Count  Dtype  \n",
      "---  ------                                              --------------  -----  \n",
      " 0   CASE_NO_PATIENT'S                                   1985 non-null   int64  \n",
      " 1   A1                                                  1985 non-null   int64  \n",
      " 2   A2                                                  1985 non-null   int64  \n",
      " 3   A3                                                  1985 non-null   int64  \n",
      " 4   A4                                                  1985 non-null   int64  \n",
      " 5   A5                                                  1985 non-null   int64  \n",
      " 6   A6                                                  1985 non-null   int64  \n",
      " 7   A7                                                  1985 non-null   int64  \n",
      " 8   A8                                                  1985 non-null   int64  \n",
      " 9   A9                                                  1985 non-null   int64  \n",
      " 10  A10_Autism_Spectrum_Quotient                        1985 non-null   int64  \n",
      " 11  Social_Responsiveness_Scale                         1976 non-null   float64\n",
      " 12  Age_Years                                           1985 non-null   int64  \n",
      " 13  Qchat_10_Score                                      1946 non-null   float64\n",
      " 14  Speech Delay/Language Disorder                      1985 non-null   object \n",
      " 15  Learning disorder                                   1985 non-null   object \n",
      " 16  Genetic_Disorders                                   1985 non-null   object \n",
      " 17  Depression                                          1984 non-null   object \n",
      " 18  Global developmental delay/intellectual disability  1985 non-null   object \n",
      " 19  Social/Behavioural Issues                           1971 non-null   object \n",
      " 20  Childhood Autism Rating Scale                       1985 non-null   int64  \n",
      " 21  Anxiety_disorder                                    1985 non-null   object \n",
      " 22  Sex                                                 1985 non-null   object \n",
      " 23  Ethnicity                                           1985 non-null   object \n",
      " 24  Jaundice                                            1985 non-null   object \n",
      " 25  Family_mem_with_ASD                                 1985 non-null   object \n",
      " 26  Who_completed_the_test                              1985 non-null   object \n",
      " 27  ASD_traits                                          1985 non-null   object \n",
      "dtypes: float64(2), int64(13), object(13)\n",
      "memory usage: 434.3+ KB\n"
     ]
    }
   ],
   "source": [
    "df.info()"
   ]
  },
  {
   "cell_type": "code",
   "execution_count": 30,
   "metadata": {},
   "outputs": [
    {
     "data": {
      "text/plain": [
       "CASE_NO_PATIENT'S                                      0\n",
       "A1                                                     0\n",
       "A2                                                     0\n",
       "A3                                                     0\n",
       "A4                                                     0\n",
       "A5                                                     0\n",
       "A6                                                     0\n",
       "A7                                                     0\n",
       "A8                                                     0\n",
       "A9                                                     0\n",
       "A10_Autism_Spectrum_Quotient                           0\n",
       "Social_Responsiveness_Scale                            9\n",
       "Age_Years                                              0\n",
       "Qchat_10_Score                                        39\n",
       "Speech Delay/Language Disorder                         0\n",
       "Learning disorder                                      0\n",
       "Genetic_Disorders                                      0\n",
       "Depression                                             1\n",
       "Global developmental delay/intellectual disability     0\n",
       "Social/Behavioural Issues                             14\n",
       "Childhood Autism Rating Scale                          0\n",
       "Anxiety_disorder                                       0\n",
       "Sex                                                    0\n",
       "Ethnicity                                              0\n",
       "Jaundice                                               0\n",
       "Family_mem_with_ASD                                    0\n",
       "Who_completed_the_test                                 0\n",
       "ASD_traits                                             0\n",
       "dtype: int64"
      ]
     },
     "execution_count": 30,
     "metadata": {},
     "output_type": "execute_result"
    }
   ],
   "source": [
    "df.isnull().sum()"
   ]
  },
  {
   "cell_type": "code",
   "execution_count": 31,
   "metadata": {},
   "outputs": [
    {
     "name": "stdout",
     "output_type": "stream",
     "text": [
      "Index(['Case_No', 'Feature_A1', 'Feature_A2', 'Feature_A3', 'Feature_A4',\n",
      "       'Feature_A5', 'Feature_A6', 'Feature_A7', 'Feature_A8', 'Feature_A9',\n",
      "       'Autism_Score', 'Social_Scale', 'Age', 'Qchat_Score',\n",
      "       'Speech_Language_Disorder', 'Learning_Disorder', 'Genetic_Disorders',\n",
      "       'Depression', 'Developmental_Delay', 'Behavioral_Issues',\n",
      "       'Autism_Rating_Scale', 'Anxiety_Disorder', 'Gender', 'Ethnicity',\n",
      "       'Jaundice', 'Family_ASD_History', 'Test_Completed_By', 'ASD_Traits'],\n",
      "      dtype='object')\n"
     ]
    }
   ],
   "source": [
    "new_column_names = {\"CASE_NO_PATIENT'S\": \"Case_No\",\"A1\": \"Feature_A1\",\"A2\": \"Feature_A2\",\"A3\": \"Feature_A3\",\"A4\": \"Feature_A4\",\"A5\": \"Feature_A5\",\"A6\": \"Feature_A6\",\n",
    "    \"A7\": \"Feature_A7\",\"A8\": \"Feature_A8\",\"A9\": \"Feature_A9\",\"A10_Autism_Spectrum_Quotient\": \"Autism_Score\",\"Social_Responsiveness_Scale\": \"Social_Scale\",\n",
    "    \"Age_Years\": \"Age\",\"Qchat_10_Score\": \"Qchat_Score\",\"Speech Delay/Language Disorder\": \"Speech_Language_Disorder\",\"Learning disorder\": \"Learning_Disorder\",\n",
    "    \"Genetic_Disorders\": \"Genetic_Disorders\",\"Depression\": \"Depression\",\"Global developmental delay/intellectual disability\": \"Developmental_Delay\",\n",
    "    \"Social/Behavioural Issues\": \"Behavioral_Issues\",\"Childhood Autism Rating Scale\": \"Autism_Rating_Scale\",\"Anxiety_disorder\": \"Anxiety_Disorder\",\"Sex\": \"Gender\",\"Ethnicity\": \"Ethnicity\",\n",
    "    \"Jaundice\": \"Jaundice\",\"Family_mem_with_ASD\": \"Family_ASD_History\",\"Who_completed_the_test\": \"Test_Completed_By\",\"ASD_traits\": \"ASD_Traits\"}\n",
    "\n",
    "# Apply renaming\n",
    "df.rename(columns=new_column_names, inplace=True)\n",
    "\n",
    "# Verify new column names\n",
    "print(df.columns)"
   ]
  },
  {
   "cell_type": "markdown",
   "metadata": {},
   "source": [
    "Columns Feature_A1, A2, ..., A9 exist, they are likely questionnaire responses, test scores, or diagnostic features related to ASD screening."
   ]
  },
  {
   "cell_type": "code",
   "execution_count": 32,
   "metadata": {},
   "outputs": [],
   "source": [
    "df[\"Qchat_Score\"] = df[\"Qchat_Score\"].fillna(0).astype(int)"
   ]
  },
  {
   "cell_type": "code",
   "execution_count": 33,
   "metadata": {},
   "outputs": [],
   "source": [
    "df[\"Social_Scale\"] = df[\"Social_Scale\"].fillna(0).astype(int)"
   ]
  },
  {
   "cell_type": "code",
   "execution_count": 34,
   "metadata": {},
   "outputs": [
    {
     "data": {
      "text/html": [
       "<div>\n",
       "<style scoped>\n",
       "    .dataframe tbody tr th:only-of-type {\n",
       "        vertical-align: middle;\n",
       "    }\n",
       "\n",
       "    .dataframe tbody tr th {\n",
       "        vertical-align: top;\n",
       "    }\n",
       "\n",
       "    .dataframe thead th {\n",
       "        text-align: right;\n",
       "    }\n",
       "</style>\n",
       "<table border=\"1\" class=\"dataframe\">\n",
       "  <thead>\n",
       "    <tr style=\"text-align: right;\">\n",
       "      <th></th>\n",
       "      <th>Case_No</th>\n",
       "      <th>Feature_A1</th>\n",
       "      <th>Feature_A2</th>\n",
       "      <th>Feature_A3</th>\n",
       "      <th>Feature_A4</th>\n",
       "      <th>Feature_A5</th>\n",
       "      <th>Feature_A6</th>\n",
       "      <th>Feature_A7</th>\n",
       "      <th>Feature_A8</th>\n",
       "      <th>Feature_A9</th>\n",
       "      <th>...</th>\n",
       "      <th>Developmental_Delay</th>\n",
       "      <th>Behavioral_Issues</th>\n",
       "      <th>Autism_Rating_Scale</th>\n",
       "      <th>Anxiety_Disorder</th>\n",
       "      <th>Gender</th>\n",
       "      <th>Ethnicity</th>\n",
       "      <th>Jaundice</th>\n",
       "      <th>Family_ASD_History</th>\n",
       "      <th>Test_Completed_By</th>\n",
       "      <th>ASD_Traits</th>\n",
       "    </tr>\n",
       "  </thead>\n",
       "  <tbody>\n",
       "    <tr>\n",
       "      <th>0</th>\n",
       "      <td>1</td>\n",
       "      <td>0</td>\n",
       "      <td>0</td>\n",
       "      <td>0</td>\n",
       "      <td>0</td>\n",
       "      <td>0</td>\n",
       "      <td>0</td>\n",
       "      <td>1</td>\n",
       "      <td>1</td>\n",
       "      <td>0</td>\n",
       "      <td>...</td>\n",
       "      <td>Yes</td>\n",
       "      <td>Yes</td>\n",
       "      <td>1</td>\n",
       "      <td>Yes</td>\n",
       "      <td>F</td>\n",
       "      <td>middle eastern</td>\n",
       "      <td>Yes</td>\n",
       "      <td>No</td>\n",
       "      <td>Family Member</td>\n",
       "      <td>No</td>\n",
       "    </tr>\n",
       "    <tr>\n",
       "      <th>1</th>\n",
       "      <td>2</td>\n",
       "      <td>1</td>\n",
       "      <td>1</td>\n",
       "      <td>0</td>\n",
       "      <td>0</td>\n",
       "      <td>0</td>\n",
       "      <td>1</td>\n",
       "      <td>1</td>\n",
       "      <td>0</td>\n",
       "      <td>0</td>\n",
       "      <td>...</td>\n",
       "      <td>Yes</td>\n",
       "      <td>Yes</td>\n",
       "      <td>2</td>\n",
       "      <td>Yes</td>\n",
       "      <td>M</td>\n",
       "      <td>White European</td>\n",
       "      <td>Yes</td>\n",
       "      <td>No</td>\n",
       "      <td>Family Member</td>\n",
       "      <td>Yes</td>\n",
       "    </tr>\n",
       "    <tr>\n",
       "      <th>2</th>\n",
       "      <td>3</td>\n",
       "      <td>1</td>\n",
       "      <td>0</td>\n",
       "      <td>0</td>\n",
       "      <td>0</td>\n",
       "      <td>0</td>\n",
       "      <td>0</td>\n",
       "      <td>1</td>\n",
       "      <td>1</td>\n",
       "      <td>0</td>\n",
       "      <td>...</td>\n",
       "      <td>Yes</td>\n",
       "      <td>Yes</td>\n",
       "      <td>4</td>\n",
       "      <td>Yes</td>\n",
       "      <td>M</td>\n",
       "      <td>Middle Eastern</td>\n",
       "      <td>Yes</td>\n",
       "      <td>No</td>\n",
       "      <td>Family Member</td>\n",
       "      <td>Yes</td>\n",
       "    </tr>\n",
       "    <tr>\n",
       "      <th>3</th>\n",
       "      <td>4</td>\n",
       "      <td>1</td>\n",
       "      <td>1</td>\n",
       "      <td>1</td>\n",
       "      <td>1</td>\n",
       "      <td>1</td>\n",
       "      <td>1</td>\n",
       "      <td>1</td>\n",
       "      <td>1</td>\n",
       "      <td>1</td>\n",
       "      <td>...</td>\n",
       "      <td>Yes</td>\n",
       "      <td>Yes</td>\n",
       "      <td>2</td>\n",
       "      <td>Yes</td>\n",
       "      <td>M</td>\n",
       "      <td>Hispanic</td>\n",
       "      <td>No</td>\n",
       "      <td>No</td>\n",
       "      <td>Family Member</td>\n",
       "      <td>Yes</td>\n",
       "    </tr>\n",
       "    <tr>\n",
       "      <th>4</th>\n",
       "      <td>5</td>\n",
       "      <td>1</td>\n",
       "      <td>1</td>\n",
       "      <td>0</td>\n",
       "      <td>1</td>\n",
       "      <td>1</td>\n",
       "      <td>1</td>\n",
       "      <td>1</td>\n",
       "      <td>1</td>\n",
       "      <td>1</td>\n",
       "      <td>...</td>\n",
       "      <td>Yes</td>\n",
       "      <td>Yes</td>\n",
       "      <td>1</td>\n",
       "      <td>Yes</td>\n",
       "      <td>F</td>\n",
       "      <td>White European</td>\n",
       "      <td>No</td>\n",
       "      <td>No</td>\n",
       "      <td>Family Member</td>\n",
       "      <td>Yes</td>\n",
       "    </tr>\n",
       "  </tbody>\n",
       "</table>\n",
       "<p>5 rows × 28 columns</p>\n",
       "</div>"
      ],
      "text/plain": [
       "   Case_No  Feature_A1  Feature_A2  Feature_A3  Feature_A4  Feature_A5  \\\n",
       "0        1           0           0           0           0           0   \n",
       "1        2           1           1           0           0           0   \n",
       "2        3           1           0           0           0           0   \n",
       "3        4           1           1           1           1           1   \n",
       "4        5           1           1           0           1           1   \n",
       "\n",
       "   Feature_A6  Feature_A7  Feature_A8  Feature_A9  ...  Developmental_Delay  \\\n",
       "0           0           1           1           0  ...                  Yes   \n",
       "1           1           1           0           0  ...                  Yes   \n",
       "2           0           1           1           0  ...                  Yes   \n",
       "3           1           1           1           1  ...                  Yes   \n",
       "4           1           1           1           1  ...                  Yes   \n",
       "\n",
       "   Behavioral_Issues  Autism_Rating_Scale  Anxiety_Disorder Gender  \\\n",
       "0                Yes                    1               Yes      F   \n",
       "1                Yes                    2               Yes      M   \n",
       "2                Yes                    4               Yes      M   \n",
       "3                Yes                    2               Yes      M   \n",
       "4                Yes                    1               Yes      F   \n",
       "\n",
       "        Ethnicity Jaundice Family_ASD_History Test_Completed_By ASD_Traits  \n",
       "0  middle eastern      Yes                 No     Family Member         No  \n",
       "1  White European      Yes                 No     Family Member        Yes  \n",
       "2  Middle Eastern      Yes                 No     Family Member        Yes  \n",
       "3        Hispanic       No                 No     Family Member        Yes  \n",
       "4  White European       No                 No     Family Member        Yes  \n",
       "\n",
       "[5 rows x 28 columns]"
      ]
     },
     "execution_count": 34,
     "metadata": {},
     "output_type": "execute_result"
    }
   ],
   "source": [
    "df.head()"
   ]
  },
  {
   "cell_type": "code",
   "execution_count": 35,
   "metadata": {},
   "outputs": [],
   "source": [
    "# Remove Rows with Null Values\n",
    "df.dropna(inplace=True)"
   ]
  },
  {
   "cell_type": "code",
   "execution_count": 36,
   "metadata": {},
   "outputs": [],
   "source": [
    "# Remove Columns with Null Values\n",
    "df.dropna(axis=1, inplace=True)"
   ]
  },
  {
   "cell_type": "code",
   "execution_count": 37,
   "metadata": {},
   "outputs": [],
   "source": [
    "df.drop(columns=[\"Case_No\", \"Test_Completed_By\"], errors=\"ignore\", inplace=True)"
   ]
  },
  {
   "cell_type": "code",
   "execution_count": 38,
   "metadata": {},
   "outputs": [
    {
     "name": "stdout",
     "output_type": "stream",
     "text": [
      "['Feature_A1', 'Feature_A2', 'Feature_A3', 'Feature_A4', 'Feature_A5', 'Feature_A6', 'Feature_A7', 'Feature_A8', 'Feature_A9', 'Autism_Score', 'Social_Scale', 'Age', 'Qchat_Score', 'Speech_Language_Disorder', 'Learning_Disorder', 'Genetic_Disorders', 'Depression', 'Developmental_Delay', 'Behavioral_Issues', 'Autism_Rating_Scale', 'Anxiety_Disorder', 'Gender', 'Ethnicity', 'Jaundice', 'Family_ASD_History', 'ASD_Traits']\n"
     ]
    }
   ],
   "source": [
    "# Verify the updated dataframe\n",
    "print(df.columns.tolist())"
   ]
  },
  {
   "cell_type": "code",
   "execution_count": 39,
   "metadata": {},
   "outputs": [],
   "source": [
    "df.columns = df.columns.str.strip()  "
   ]
  },
  {
   "cell_type": "code",
   "execution_count": 40,
   "metadata": {},
   "outputs": [
    {
     "data": {
      "text/html": [
       "<div>\n",
       "<style scoped>\n",
       "    .dataframe tbody tr th:only-of-type {\n",
       "        vertical-align: middle;\n",
       "    }\n",
       "\n",
       "    .dataframe tbody tr th {\n",
       "        vertical-align: top;\n",
       "    }\n",
       "\n",
       "    .dataframe thead th {\n",
       "        text-align: right;\n",
       "    }\n",
       "</style>\n",
       "<table border=\"1\" class=\"dataframe\">\n",
       "  <thead>\n",
       "    <tr style=\"text-align: right;\">\n",
       "      <th></th>\n",
       "      <th>Feature_A1</th>\n",
       "      <th>Feature_A2</th>\n",
       "      <th>Feature_A3</th>\n",
       "      <th>Feature_A4</th>\n",
       "      <th>Feature_A5</th>\n",
       "      <th>Feature_A6</th>\n",
       "      <th>Feature_A7</th>\n",
       "      <th>Feature_A8</th>\n",
       "      <th>Feature_A9</th>\n",
       "      <th>Autism_Score</th>\n",
       "      <th>...</th>\n",
       "      <th>Depression</th>\n",
       "      <th>Developmental_Delay</th>\n",
       "      <th>Behavioral_Issues</th>\n",
       "      <th>Autism_Rating_Scale</th>\n",
       "      <th>Anxiety_Disorder</th>\n",
       "      <th>Gender</th>\n",
       "      <th>Ethnicity</th>\n",
       "      <th>Jaundice</th>\n",
       "      <th>Family_ASD_History</th>\n",
       "      <th>ASD_Traits</th>\n",
       "    </tr>\n",
       "  </thead>\n",
       "  <tbody>\n",
       "    <tr>\n",
       "      <th>count</th>\n",
       "      <td>1970.000000</td>\n",
       "      <td>1970.000000</td>\n",
       "      <td>1970.000000</td>\n",
       "      <td>1970.000000</td>\n",
       "      <td>1970.000000</td>\n",
       "      <td>1970.000000</td>\n",
       "      <td>1970.000000</td>\n",
       "      <td>1970.000000</td>\n",
       "      <td>1970.000000</td>\n",
       "      <td>1970.000000</td>\n",
       "      <td>...</td>\n",
       "      <td>1970</td>\n",
       "      <td>1970</td>\n",
       "      <td>1970</td>\n",
       "      <td>1970.000000</td>\n",
       "      <td>1970</td>\n",
       "      <td>1970</td>\n",
       "      <td>1970</td>\n",
       "      <td>1970</td>\n",
       "      <td>1970</td>\n",
       "      <td>1970</td>\n",
       "    </tr>\n",
       "    <tr>\n",
       "      <th>unique</th>\n",
       "      <td>NaN</td>\n",
       "      <td>NaN</td>\n",
       "      <td>NaN</td>\n",
       "      <td>NaN</td>\n",
       "      <td>NaN</td>\n",
       "      <td>NaN</td>\n",
       "      <td>NaN</td>\n",
       "      <td>NaN</td>\n",
       "      <td>NaN</td>\n",
       "      <td>NaN</td>\n",
       "      <td>...</td>\n",
       "      <td>2</td>\n",
       "      <td>2</td>\n",
       "      <td>2</td>\n",
       "      <td>NaN</td>\n",
       "      <td>2</td>\n",
       "      <td>2</td>\n",
       "      <td>16</td>\n",
       "      <td>2</td>\n",
       "      <td>2</td>\n",
       "      <td>2</td>\n",
       "    </tr>\n",
       "    <tr>\n",
       "      <th>top</th>\n",
       "      <td>NaN</td>\n",
       "      <td>NaN</td>\n",
       "      <td>NaN</td>\n",
       "      <td>NaN</td>\n",
       "      <td>NaN</td>\n",
       "      <td>NaN</td>\n",
       "      <td>NaN</td>\n",
       "      <td>NaN</td>\n",
       "      <td>NaN</td>\n",
       "      <td>NaN</td>\n",
       "      <td>...</td>\n",
       "      <td>Yes</td>\n",
       "      <td>Yes</td>\n",
       "      <td>Yes</td>\n",
       "      <td>NaN</td>\n",
       "      <td>Yes</td>\n",
       "      <td>M</td>\n",
       "      <td>White European</td>\n",
       "      <td>Yes</td>\n",
       "      <td>No</td>\n",
       "      <td>Yes</td>\n",
       "    </tr>\n",
       "    <tr>\n",
       "      <th>freq</th>\n",
       "      <td>NaN</td>\n",
       "      <td>NaN</td>\n",
       "      <td>NaN</td>\n",
       "      <td>NaN</td>\n",
       "      <td>NaN</td>\n",
       "      <td>NaN</td>\n",
       "      <td>NaN</td>\n",
       "      <td>NaN</td>\n",
       "      <td>NaN</td>\n",
       "      <td>NaN</td>\n",
       "      <td>...</td>\n",
       "      <td>1040</td>\n",
       "      <td>1040</td>\n",
       "      <td>1040</td>\n",
       "      <td>NaN</td>\n",
       "      <td>1037</td>\n",
       "      <td>1435</td>\n",
       "      <td>543</td>\n",
       "      <td>1521</td>\n",
       "      <td>1325</td>\n",
       "      <td>1062</td>\n",
       "    </tr>\n",
       "    <tr>\n",
       "      <th>mean</th>\n",
       "      <td>0.296954</td>\n",
       "      <td>0.237056</td>\n",
       "      <td>0.211168</td>\n",
       "      <td>0.269543</td>\n",
       "      <td>0.275635</td>\n",
       "      <td>0.303046</td>\n",
       "      <td>0.342132</td>\n",
       "      <td>0.241117</td>\n",
       "      <td>0.256853</td>\n",
       "      <td>0.445685</td>\n",
       "      <td>...</td>\n",
       "      <td>NaN</td>\n",
       "      <td>NaN</td>\n",
       "      <td>NaN</td>\n",
       "      <td>1.698985</td>\n",
       "      <td>NaN</td>\n",
       "      <td>NaN</td>\n",
       "      <td>NaN</td>\n",
       "      <td>NaN</td>\n",
       "      <td>NaN</td>\n",
       "      <td>NaN</td>\n",
       "    </tr>\n",
       "    <tr>\n",
       "      <th>std</th>\n",
       "      <td>0.457032</td>\n",
       "      <td>0.425385</td>\n",
       "      <td>0.408241</td>\n",
       "      <td>0.443835</td>\n",
       "      <td>0.446947</td>\n",
       "      <td>0.459691</td>\n",
       "      <td>0.474544</td>\n",
       "      <td>0.427870</td>\n",
       "      <td>0.437008</td>\n",
       "      <td>0.497167</td>\n",
       "      <td>...</td>\n",
       "      <td>NaN</td>\n",
       "      <td>NaN</td>\n",
       "      <td>NaN</td>\n",
       "      <td>1.014996</td>\n",
       "      <td>NaN</td>\n",
       "      <td>NaN</td>\n",
       "      <td>NaN</td>\n",
       "      <td>NaN</td>\n",
       "      <td>NaN</td>\n",
       "      <td>NaN</td>\n",
       "    </tr>\n",
       "    <tr>\n",
       "      <th>min</th>\n",
       "      <td>0.000000</td>\n",
       "      <td>0.000000</td>\n",
       "      <td>0.000000</td>\n",
       "      <td>0.000000</td>\n",
       "      <td>0.000000</td>\n",
       "      <td>0.000000</td>\n",
       "      <td>0.000000</td>\n",
       "      <td>0.000000</td>\n",
       "      <td>0.000000</td>\n",
       "      <td>0.000000</td>\n",
       "      <td>...</td>\n",
       "      <td>NaN</td>\n",
       "      <td>NaN</td>\n",
       "      <td>NaN</td>\n",
       "      <td>1.000000</td>\n",
       "      <td>NaN</td>\n",
       "      <td>NaN</td>\n",
       "      <td>NaN</td>\n",
       "      <td>NaN</td>\n",
       "      <td>NaN</td>\n",
       "      <td>NaN</td>\n",
       "    </tr>\n",
       "    <tr>\n",
       "      <th>25%</th>\n",
       "      <td>0.000000</td>\n",
       "      <td>0.000000</td>\n",
       "      <td>0.000000</td>\n",
       "      <td>0.000000</td>\n",
       "      <td>0.000000</td>\n",
       "      <td>0.000000</td>\n",
       "      <td>0.000000</td>\n",
       "      <td>0.000000</td>\n",
       "      <td>0.000000</td>\n",
       "      <td>0.000000</td>\n",
       "      <td>...</td>\n",
       "      <td>NaN</td>\n",
       "      <td>NaN</td>\n",
       "      <td>NaN</td>\n",
       "      <td>1.000000</td>\n",
       "      <td>NaN</td>\n",
       "      <td>NaN</td>\n",
       "      <td>NaN</td>\n",
       "      <td>NaN</td>\n",
       "      <td>NaN</td>\n",
       "      <td>NaN</td>\n",
       "    </tr>\n",
       "    <tr>\n",
       "      <th>50%</th>\n",
       "      <td>0.000000</td>\n",
       "      <td>0.000000</td>\n",
       "      <td>0.000000</td>\n",
       "      <td>0.000000</td>\n",
       "      <td>0.000000</td>\n",
       "      <td>0.000000</td>\n",
       "      <td>0.000000</td>\n",
       "      <td>0.000000</td>\n",
       "      <td>0.000000</td>\n",
       "      <td>0.000000</td>\n",
       "      <td>...</td>\n",
       "      <td>NaN</td>\n",
       "      <td>NaN</td>\n",
       "      <td>NaN</td>\n",
       "      <td>1.000000</td>\n",
       "      <td>NaN</td>\n",
       "      <td>NaN</td>\n",
       "      <td>NaN</td>\n",
       "      <td>NaN</td>\n",
       "      <td>NaN</td>\n",
       "      <td>NaN</td>\n",
       "    </tr>\n",
       "    <tr>\n",
       "      <th>75%</th>\n",
       "      <td>1.000000</td>\n",
       "      <td>0.000000</td>\n",
       "      <td>0.000000</td>\n",
       "      <td>1.000000</td>\n",
       "      <td>1.000000</td>\n",
       "      <td>1.000000</td>\n",
       "      <td>1.000000</td>\n",
       "      <td>0.000000</td>\n",
       "      <td>1.000000</td>\n",
       "      <td>1.000000</td>\n",
       "      <td>...</td>\n",
       "      <td>NaN</td>\n",
       "      <td>NaN</td>\n",
       "      <td>NaN</td>\n",
       "      <td>2.000000</td>\n",
       "      <td>NaN</td>\n",
       "      <td>NaN</td>\n",
       "      <td>NaN</td>\n",
       "      <td>NaN</td>\n",
       "      <td>NaN</td>\n",
       "      <td>NaN</td>\n",
       "    </tr>\n",
       "    <tr>\n",
       "      <th>max</th>\n",
       "      <td>1.000000</td>\n",
       "      <td>1.000000</td>\n",
       "      <td>1.000000</td>\n",
       "      <td>1.000000</td>\n",
       "      <td>1.000000</td>\n",
       "      <td>1.000000</td>\n",
       "      <td>1.000000</td>\n",
       "      <td>1.000000</td>\n",
       "      <td>1.000000</td>\n",
       "      <td>1.000000</td>\n",
       "      <td>...</td>\n",
       "      <td>NaN</td>\n",
       "      <td>NaN</td>\n",
       "      <td>NaN</td>\n",
       "      <td>4.000000</td>\n",
       "      <td>NaN</td>\n",
       "      <td>NaN</td>\n",
       "      <td>NaN</td>\n",
       "      <td>NaN</td>\n",
       "      <td>NaN</td>\n",
       "      <td>NaN</td>\n",
       "    </tr>\n",
       "  </tbody>\n",
       "</table>\n",
       "<p>11 rows × 26 columns</p>\n",
       "</div>"
      ],
      "text/plain": [
       "         Feature_A1   Feature_A2   Feature_A3   Feature_A4   Feature_A5  \\\n",
       "count   1970.000000  1970.000000  1970.000000  1970.000000  1970.000000   \n",
       "unique          NaN          NaN          NaN          NaN          NaN   \n",
       "top             NaN          NaN          NaN          NaN          NaN   \n",
       "freq            NaN          NaN          NaN          NaN          NaN   \n",
       "mean       0.296954     0.237056     0.211168     0.269543     0.275635   \n",
       "std        0.457032     0.425385     0.408241     0.443835     0.446947   \n",
       "min        0.000000     0.000000     0.000000     0.000000     0.000000   \n",
       "25%        0.000000     0.000000     0.000000     0.000000     0.000000   \n",
       "50%        0.000000     0.000000     0.000000     0.000000     0.000000   \n",
       "75%        1.000000     0.000000     0.000000     1.000000     1.000000   \n",
       "max        1.000000     1.000000     1.000000     1.000000     1.000000   \n",
       "\n",
       "         Feature_A6   Feature_A7   Feature_A8   Feature_A9  Autism_Score  ...  \\\n",
       "count   1970.000000  1970.000000  1970.000000  1970.000000   1970.000000  ...   \n",
       "unique          NaN          NaN          NaN          NaN           NaN  ...   \n",
       "top             NaN          NaN          NaN          NaN           NaN  ...   \n",
       "freq            NaN          NaN          NaN          NaN           NaN  ...   \n",
       "mean       0.303046     0.342132     0.241117     0.256853      0.445685  ...   \n",
       "std        0.459691     0.474544     0.427870     0.437008      0.497167  ...   \n",
       "min        0.000000     0.000000     0.000000     0.000000      0.000000  ...   \n",
       "25%        0.000000     0.000000     0.000000     0.000000      0.000000  ...   \n",
       "50%        0.000000     0.000000     0.000000     0.000000      0.000000  ...   \n",
       "75%        1.000000     1.000000     0.000000     1.000000      1.000000  ...   \n",
       "max        1.000000     1.000000     1.000000     1.000000      1.000000  ...   \n",
       "\n",
       "        Depression  Developmental_Delay  Behavioral_Issues  \\\n",
       "count         1970                 1970               1970   \n",
       "unique           2                    2                  2   \n",
       "top            Yes                  Yes                Yes   \n",
       "freq          1040                 1040               1040   \n",
       "mean           NaN                  NaN                NaN   \n",
       "std            NaN                  NaN                NaN   \n",
       "min            NaN                  NaN                NaN   \n",
       "25%            NaN                  NaN                NaN   \n",
       "50%            NaN                  NaN                NaN   \n",
       "75%            NaN                  NaN                NaN   \n",
       "max            NaN                  NaN                NaN   \n",
       "\n",
       "       Autism_Rating_Scale Anxiety_Disorder Gender       Ethnicity Jaundice  \\\n",
       "count          1970.000000             1970   1970            1970     1970   \n",
       "unique                 NaN                2      2              16        2   \n",
       "top                    NaN              Yes      M  White European      Yes   \n",
       "freq                   NaN             1037   1435             543     1521   \n",
       "mean              1.698985              NaN    NaN             NaN      NaN   \n",
       "std               1.014996              NaN    NaN             NaN      NaN   \n",
       "min               1.000000              NaN    NaN             NaN      NaN   \n",
       "25%               1.000000              NaN    NaN             NaN      NaN   \n",
       "50%               1.000000              NaN    NaN             NaN      NaN   \n",
       "75%               2.000000              NaN    NaN             NaN      NaN   \n",
       "max               4.000000              NaN    NaN             NaN      NaN   \n",
       "\n",
       "       Family_ASD_History  ASD_Traits  \n",
       "count                1970        1970  \n",
       "unique                  2           2  \n",
       "top                    No         Yes  \n",
       "freq                 1325        1062  \n",
       "mean                  NaN         NaN  \n",
       "std                   NaN         NaN  \n",
       "min                   NaN         NaN  \n",
       "25%                   NaN         NaN  \n",
       "50%                   NaN         NaN  \n",
       "75%                   NaN         NaN  \n",
       "max                   NaN         NaN  \n",
       "\n",
       "[11 rows x 26 columns]"
      ]
     },
     "execution_count": 40,
     "metadata": {},
     "output_type": "execute_result"
    }
   ],
   "source": [
    "df.describe(include='all')"
   ]
  },
  {
   "cell_type": "markdown",
   "metadata": {},
   "source": [
    "Q1. Check for Missing Values"
   ]
  },
  {
   "cell_type": "code",
   "execution_count": 41,
   "metadata": {},
   "outputs": [
    {
     "data": {
      "image/png": "[encoded data removed]",
      "text/plain": [
       "<Figure size 1000x600 with 1 Axes>"
      ]
     },
     "metadata": {},
     "output_type": "display_data"
    }
   ],
   "source": [
    "plt.figure(figsize=(10, 6))\n",
    "sns.heatmap(df.isnull(), cbar=False, cmap=\"viridis\")\n",
    "plt.title(\"Missing Values in Dataset\")\n",
    "plt.show()"
   ]
  },
  {
   "cell_type": "markdown",
   "metadata": {},
   "source": [
    "The heatmap indicates that all features in the dataset are fully populated, with no missing (NaN) values"
   ]
  },
  {
   "cell_type": "markdown",
   "metadata": {},
   "source": [
    "Q2. Does the gender distribution affect the prevalence of ASD traits?"
   ]
  },
  {
   "cell_type": "code",
   "execution_count": 42,
   "metadata": {},
   "outputs": [
    {
     "name": "stderr",
     "output_type": "stream",
     "text": [
      "C:\\Users\\sitha\\AppData\\Local\\Temp\\ipykernel_2552\\249384577.py:4: FutureWarning: \n",
      "\n",
      "Passing `palette` without assigning `hue` is deprecated and will be removed in v0.14.0. Assign the `x` variable to `hue` and set `legend=False` for the same effect.\n",
      "\n",
      "  sns.countplot(x=df[\"Gender\"], palette=\"viridis_r\")\n"
     ]
    },
    {
     "data": {
      "image/png": "[encoded data removed]",
      "text/plain": [
       "<Figure size 800x300 with 1 Axes>"
      ]
     },
     "metadata": {},
     "output_type": "display_data"
    }
   ],
   "source": [
    "\n",
    "df[\"Gender Count\"] =df[\"Gender\"]\n",
    "plt.figure(figsize=(8, 3))\n",
    "\n",
    "sns.countplot(x=df[\"Gender\"], palette=\"viridis_r\")\n",
    "\n",
    "# Labels and title\n",
    "plt.xlabel(\"Gender\")\n",
    "plt.ylabel(\"Count\")\n",
    "plt.title(\"Distribution of Gender\")\n",
    "\n",
    "# Show plot\n",
    "plt.show()"
   ]
  },
  {
   "cell_type": "markdown",
   "metadata": {},
   "source": [
    "The dataset shows a significant gender imbalance, with more males (M) than females (F). This may impact the analysis, especially if ASD traits are more prevalent in one gender."
   ]
  },
  {
   "cell_type": "markdown",
   "metadata": {},
   "source": [
    "Q3.How does ethnicity distribution affect ASD traits or diagnosis trends?"
   ]
  },
  {
   "cell_type": "code",
   "execution_count": 43,
   "metadata": {},
   "outputs": [
    {
     "name": "stderr",
     "output_type": "stream",
     "text": [
      "C:\\Users\\sitha\\AppData\\Local\\Temp\\ipykernel_2552\\576905097.py:4: FutureWarning: \n",
      "\n",
      "Passing `palette` without assigning `hue` is deprecated and will be removed in v0.14.0. Assign the `x` variable to `hue` and set `legend=False` for the same effect.\n",
      "\n",
      "  sns.countplot(x=df[\"Ethnicity\"], palette=\"husl\")\n"
     ]
    },
    {
     "data": {
      "image/png": "[encoded data removed]",
      "text/plain": [
       "<Figure size 3000x1000 with 1 Axes>"
      ]
     },
     "metadata": {},
     "output_type": "display_data"
    }
   ],
   "source": [
    "df[\"Ethnicity Frequency\"] =df[\"Ethnicity\"]\n",
    "plt.figure(figsize=(30, 10))\n",
    "\n",
    "sns.countplot(x=df[\"Ethnicity\"], palette=\"husl\")\n",
    "\n",
    "# Labels and title\n",
    "plt.xlabel(\"Ethnicity\")\n",
    "plt.ylabel(\"Frequency\")\n",
    "plt.title(\"Distribution of Ethnicity\")\n",
    "\n",
    "# Show plot\n",
    "plt.show()"
   ]
  },
  {
   "cell_type": "markdown",
   "metadata": {},
   "source": [
    "The dataset shows a significant imbalance in ethnicity representation, with \"White European,\" \"Middle Eastern,\" and \"Asian\" being the most frequent groups. This imbalance may influence any ethnicity-based analysis related to ASD traits."
   ]
  },
  {
   "cell_type": "markdown",
   "metadata": {},
   "source": [
    "Q4.Is there a balanced distribution of individuals with and without ASD traits in the dataset?"
   ]
  },
  {
   "cell_type": "code",
   "execution_count": 44,
   "metadata": {},
   "outputs": [
    {
     "name": "stderr",
     "output_type": "stream",
     "text": [
      "C:\\Users\\sitha\\AppData\\Local\\Temp\\ipykernel_2552\\2297923406.py:4: FutureWarning: \n",
      "\n",
      "Passing `palette` without assigning `hue` is deprecated and will be removed in v0.14.0. Assign the `x` variable to `hue` and set `legend=False` for the same effect.\n",
      "\n",
      "  sns.countplot(x=df[\"ASD_Traits\"], palette=\"viridis_r\")\n"
     ]
    },
    {
     "data": {
      "image/png": "[encoded data removed]",
      "text/plain": [
       "<Figure size 800x300 with 1 Axes>"
      ]
     },
     "metadata": {},
     "output_type": "display_data"
    }
   ],
   "source": [
    "df[\"ASD_Traits Count\"] =df[\"ASD_Traits\"]\n",
    "plt.figure(figsize=(8, 3))\n",
    "\n",
    "sns.countplot(x=df[\"ASD_Traits\"], palette=\"viridis_r\")\n",
    "\n",
    "# Labels and title\n",
    "plt.xlabel(\"ASD_Traits\")\n",
    "plt.ylabel(\"Count\")\n",
    "plt.title(\"Distribution of ASD_Traits\")\n",
    "\n",
    "# Show plot\n",
    "plt.show()"
   ]
  },
  {
   "cell_type": "markdown",
   "metadata": {},
   "source": [
    "The dataset shows a relatively balanced distribution of ASD traits, with a slightly higher number of individuals identified with ASD traits compared to those without. This balance is beneficial for unbiased analysis and model training."
   ]
  },
  {
   "cell_type": "markdown",
   "metadata": {},
   "source": [
    "Q5. What factors influence ASD traits the most? (e.g., age, gender, genetic disorders?)\n"
   ]
  },
  {
   "cell_type": "code",
   "execution_count": 45,
   "metadata": {},
   "outputs": [
    {
     "name": "stderr",
     "output_type": "stream",
     "text": [
      "C:\\Users\\sitha\\AppData\\Local\\Temp\\ipykernel_2552\\997381092.py:23: FutureWarning: \n",
      "\n",
      "Passing `palette` without assigning `hue` is deprecated and will be removed in v0.14.0. Assign the `y` variable to `hue` and set `legend=False` for the same effect.\n",
      "\n",
      "  sns.barplot(y=correlation_asd.index, x=correlation_asd.values, palette=\"viridis\")\n"
     ]
    },
    {
     "name": "stdout",
     "output_type": "stream",
     "text": [
      "Feature_A1                  int64\n",
      "Feature_A2                  int64\n",
      "Feature_A3                  int64\n",
      "Feature_A4                  int64\n",
      "Feature_A5                  int64\n",
      "Feature_A6                  int64\n",
      "Feature_A7                  int64\n",
      "Feature_A8                  int64\n",
      "Feature_A9                  int64\n",
      "Autism_Score                int64\n",
      "Social_Scale                int32\n",
      "Age                         int64\n",
      "Qchat_Score                 int32\n",
      "Speech_Language_Disorder    int32\n",
      "Learning_Disorder           int32\n",
      "Genetic_Disorders           int32\n",
      "Depression                  int32\n",
      "Developmental_Delay         int32\n",
      "Behavioral_Issues           int32\n",
      "Autism_Rating_Scale         int64\n",
      "Anxiety_Disorder            int32\n",
      "Gender                      int32\n",
      "Ethnicity                   int32\n",
      "Jaundice                    int32\n",
      "Family_ASD_History          int32\n",
      "ASD_Traits                  int64\n",
      "Gender Count                int32\n",
      "Ethnicity Frequency         int32\n",
      "ASD_Traits Count            int32\n",
      "dtype: object\n"
     ]
    },
    {
     "data": {
      "image/png": "[encoded data removed]",
      "text/plain": [
       "<Figure size 1000x600 with 1 Axes>"
      ]
     },
     "metadata": {},
     "output_type": "display_data"
    }
   ],
   "source": [
    "\n",
    "# Convert ASD_Traits to numeric\n",
    "df[\"ASD_Traits\"] = df[\"ASD_Traits\"].map({\"Yes\": 1, \"No\": 0})\n",
    "\n",
    "# Identify categorical columns (excluding already converted ones)\n",
    "categorical_cols = df.select_dtypes(include=[\"object\"]).columns.tolist()\n",
    "\n",
    "# Apply Label Encoding to categorical columns\n",
    "label_enc = LabelEncoder()\n",
    "for col in categorical_cols:\n",
    "    df[col] = label_enc.fit_transform(df[col])\n",
    "\n",
    "# Check if dataset is fully numeric\n",
    "print(df.dtypes)\n",
    "\n",
    "# Compute correlation matrix\n",
    "correlation_matrix = df.corr()\n",
    "\n",
    "# Sort correlations with ASD_Traits\n",
    "correlation_asd = correlation_matrix[\"ASD_Traits\"].drop(\"ASD_Traits\").sort_values(ascending=False)\n",
    "\n",
    "# Plot correlation as a horizontal bar chart\n",
    "plt.figure(figsize=(10, 6))\n",
    "sns.barplot(y=correlation_asd.index, x=correlation_asd.values, palette=\"viridis\")\n",
    "plt.xlabel(\"Correlation Coefficient\")\n",
    "plt.ylabel(\"Features\")\n",
    "plt.title(\"Feature Correlation with ASD Traits\")\n",
    "plt.axvline(x=0, color=\"black\", linestyle=\"--\", alpha=0.6)  # Reference line at 0\n",
    "plt.show()\n"
   ]
  },
  {
   "cell_type": "markdown",
   "metadata": {},
   "source": [
    "Conclusion: Factors Influencing ASD Traits\n",
    "Based on the correlation analysis, the following key insights emerge:\n",
    "\n",
    "1.Genetic Factors Are Strongly Correlated\n",
    "Features related to Genetic Disorders and Family ASD History show high correlation with ASD traits.\n",
    "This aligns with existing research that suggests a strong genetic component in ASD development.\n",
    "\n",
    "2.Developmental & Behavioral Disorders Show Moderate Correlation \n",
    "Speech-Language Disorders, Learning Disorders, and Developmental Delays exhibit moderate correlation with ASD traits.\n",
    "Children with speech or developmental challenges may be at a higher risk of ASD diagnosis.\n",
    "\n",
    "3️.Age Has a Weak or No Significant Correlation \n",
    "Age does not strongly correlate with ASD traits, likely because ASD is typically diagnosed at an early age, and traits remain stable over time.\n",
    "\n",
    "4️.Gender Shows Some Influence \n",
    "If gender has a noticeable correlation, it suggests a possible male-female distribution imbalance.\n",
    "ASD is more frequently diagnosed in males than females, which might reflect in the dataset"
   ]
  },
  {
   "cell_type": "markdown",
   "metadata": {},
   "source": [
    "Q6. How does various medical conditions be the reason for ASD ?"
   ]
  },
  {
   "cell_type": "code",
   "execution_count": 46,
   "metadata": {},
   "outputs": [
    {
     "name": "stderr",
     "output_type": "stream",
     "text": [
      "C:\\Users\\sitha\\AppData\\Local\\Temp\\ipykernel_2552\\3714384990.py:9: FutureWarning: \n",
      "\n",
      "Passing `palette` without assigning `hue` is deprecated and will be removed in v0.14.0. Assign the `x` variable to `hue` and set `legend=False` for the same effect.\n",
      "\n",
      "  sns.countplot(data=df, x=col, palette=\"pastel\")\n",
      "C:\\Users\\sitha\\AppData\\Local\\Temp\\ipykernel_2552\\3714384990.py:9: FutureWarning: \n",
      "\n",
      "Passing `palette` without assigning `hue` is deprecated and will be removed in v0.14.0. Assign the `x` variable to `hue` and set `legend=False` for the same effect.\n",
      "\n",
      "  sns.countplot(data=df, x=col, palette=\"pastel\")\n",
      "C:\\Users\\sitha\\AppData\\Local\\Temp\\ipykernel_2552\\3714384990.py:9: FutureWarning: \n",
      "\n",
      "Passing `palette` without assigning `hue` is deprecated and will be removed in v0.14.0. Assign the `x` variable to `hue` and set `legend=False` for the same effect.\n",
      "\n",
      "  sns.countplot(data=df, x=col, palette=\"pastel\")\n"
     ]
    },
    {
     "data": {
      "image/png": "[encoded data removed]",
      "text/plain": [
       "<Figure size 1200x800 with 3 Axes>"
      ]
     },
     "metadata": {},
     "output_type": "display_data"
    }
   ],
   "source": [
    "\n",
    "# Select medical history columns\n",
    "medical_history_cols = [\"Jaundice\", \"Family_ASD_History\", \"Genetic_Disorders\"]\n",
    "# Set up the figure\n",
    "plt.figure(figsize=(12, 8))\n",
    "\n",
    "# Create count plots for each medical history factor\n",
    "for i, col in enumerate(medical_history_cols, 1):\n",
    "    plt.subplot(3, 3, i)\n",
    "    sns.countplot(data=df, x=col, palette=\"pastel\")\n",
    "    plt.title(col)\n",
    "    plt.xlabel(\"Medical_Hist\")\n",
    "    plt.ylabel(\"Count\")\n",
    "\n",
    "\n",
    "plt.show()\n"
   ]
  },
  {
   "cell_type": "markdown",
   "metadata": {},
   "source": [
    "Jaundice appears to be more common, with a higher number of individuals having a history of it.\n",
    "Family History of ASD is less prevalent, with more individuals not having a family member with ASD.\n",
    "Genetic Disorders show a balanced distribution between individuals with and without them.\n",
    "This analysis suggests that certain medical conditions like Jaundice may be more frequent, while others, such as a family history of ASD, are less common in the dataset."
   ]
  },
  {
   "cell_type": "markdown",
   "metadata": {},
   "source": [
    "Q7. How do different medical conditions compare in terms of occurrence among individuals in the dataset? "
   ]
  },
  {
   "cell_type": "code",
   "execution_count": 47,
   "metadata": {},
   "outputs": [
    {
     "data": {
      "image/png": "[encoded data removed]",
      "text/plain": [
       "<Figure size 1200x600 with 1 Axes>"
      ]
     },
     "metadata": {},
     "output_type": "display_data"
    }
   ],
   "source": [
    "# List of relevant columns as they appear in the dataset\n",
    "selected_columns = [\"Speech_Language_Disorder\", \"Learning_Disorder\", \"Genetic_Disorders\",\"Depression\", \"Developmental_Delay\",\"Behavioral_Issues\", \"Anxiety_Disorder\", ]\n",
    "\n",
    "\n",
    "# Convert to long format for seaborn\n",
    "df_long = df.melt(value_vars=selected_columns, var_name=\"Condition\", value_name=\"Presence\")\n",
    "\n",
    "# Convert non-numeric values to categorical\n",
    "df_long[\"Presence\"] = df_long[\"Presence\"].astype(str)\n",
    "\n",
    "# Plot\n",
    "plt.figure(figsize=(12, 6))\n",
    "sns.countplot(data=df_long, x=\"Condition\", hue=\"Presence\", palette=\"viridis_r\")\n",
    "plt.xticks(rotation=45, ha=\"right\")\n",
    "plt.xlabel(\"Common Conditions\")\n",
    "plt.ylabel(\"Count\")\n",
    "plt.title(\"Comparison of Selected Medical Conditions\")\n",
    "plt.legend(title=\"Presence\", labels=[\"No\", \"Yes\"])\n",
    "plt.show()\n"
   ]
  },
  {
   "cell_type": "markdown",
   "metadata": {},
   "source": [
    "From the bar chart, we observe that conditions like Genetic Disorders, Speech-Language Disorder, and Anxiety Disorder have a significant presence among individuals. The distribution of \"Yes\" and \"No\" responses varies across conditions, indicating that some conditions may be more prevalent than others. Understanding these distributions can help in identifying common co-occurring conditions and focusing on necessary medical interventions."
   ]
  },
  {
   "cell_type": "code",
   "execution_count": 48,
   "metadata": {},
   "outputs": [
    {
     "data": {
      "text/plain": [
       "ASD_Traits Count    1.000000\n",
       "ASD_Traits          1.000000\n",
       "Feature_A6          0.501147\n",
       "Feature_A9          0.499321\n",
       "Feature_A7          0.497247\n",
       "Feature_A5          0.492899\n",
       "Feature_A4          0.463006\n",
       "Feature_A1          0.462762\n",
       "Feature_A2          0.434003\n",
       "Feature_A8          0.411694\n",
       "Name: ASD_Traits, dtype: float64"
      ]
     },
     "execution_count": 48,
     "metadata": {},
     "output_type": "execute_result"
    }
   ],
   "source": [
    "# Check feature correlation with the target variable\n",
    "correlation = df.corr()[\"ASD_Traits\"].abs().sort_values(ascending=False)\n",
    "\n",
    "# Display top correlated features\n",
    "correlation.head(10)\n"
   ]
  },
  {
   "cell_type": "markdown",
   "metadata": {},
   "source": [
    "Feature Importance using a Machine Learning Model"
   ]
  },
  {
   "cell_type": "markdown",
   "metadata": {},
   "source": [
    "Training a classification model (e.g., Decision Tree, Random Forest, or Logistic Regression)? "
   ]
  },
  {
   "cell_type": "markdown",
   "metadata": {},
   "source": [
    "Splitting the data and training a classification model"
   ]
  },
  {
   "cell_type": "markdown",
   "metadata": {},
   "source": [
    "Start with Random Forest "
   ]
  },
  {
   "cell_type": "markdown",
   "metadata": {},
   "source": [
    "1.\tSplit the data into training and testing sets (80% train, 20% test)."
   ]
  },
  {
   "cell_type": "code",
   "execution_count": 49,
   "metadata": {},
   "outputs": [],
   "source": [
    "from sklearn.model_selection import train_test_split\n",
    "from sklearn.ensemble import RandomForestClassifier\n",
    "from sklearn.metrics import accuracy_score, precision_score, recall_score, f1_score\n",
    "\n",
    "# Define features (top correlated) and target variable\n",
    "top_features = [\"Feature_A9\", \"Feature_A6\", \"Feature_A7\", \"Feature_A5\", \"Feature_A1\", \"Feature_A4\", \"Feature_A2\", \"Qchat_Score\", \"Feature_A8\"]\n",
    "X = df[top_features]\n",
    "y = df[\"ASD_Traits\"]\n"
   ]
  },
  {
   "cell_type": "code",
   "execution_count": 50,
   "metadata": {},
   "outputs": [
    {
     "name": "stdout",
     "output_type": "stream",
     "text": [
      "      Feature_A9  Feature_A6  Feature_A7  Feature_A5  Feature_A1  Feature_A4  \\\n",
      "0              0           0           1           0           0           0   \n",
      "1              0           1           1           0           1           0   \n",
      "2              0           0           1           0           1           0   \n",
      "3              1           1           1           1           1           1   \n",
      "4              1           1           1           1           1           1   \n",
      "...          ...         ...         ...         ...         ...         ...   \n",
      "1980           0           0           0           0           0           0   \n",
      "1981           0           0           0           0           0           0   \n",
      "1982           0           0           0           0           0           0   \n",
      "1983           0           0           0           0           0           0   \n",
      "1984           0           0           0           0           0           0   \n",
      "\n",
      "      Feature_A2  Qchat_Score  Feature_A8  \n",
      "0              0            3           1  \n",
      "1              1            4           0  \n",
      "2              0            4           1  \n",
      "3              1           10           1  \n",
      "4              1            9           1  \n",
      "...          ...          ...         ...  \n",
      "1980           0            6           0  \n",
      "1981           0            0           0  \n",
      "1982           0            6           0  \n",
      "1983           0            0           0  \n",
      "1984           0            6           0  \n",
      "\n",
      "[1970 rows x 9 columns]\n"
     ]
    }
   ],
   "source": [
    "print(X)"
   ]
  },
  {
   "cell_type": "code",
   "execution_count": 51,
   "metadata": {},
   "outputs": [
    {
     "name": "stdout",
     "output_type": "stream",
     "text": [
      "0       0\n",
      "1       1\n",
      "2       1\n",
      "3       1\n",
      "4       1\n",
      "       ..\n",
      "1980    0\n",
      "1981    0\n",
      "1982    1\n",
      "1983    0\n",
      "1984    1\n",
      "Name: ASD_Traits, Length: 1970, dtype: int64\n"
     ]
    }
   ],
   "source": [
    "print(y)"
   ]
  },
  {
   "cell_type": "code",
   "execution_count": 52,
   "metadata": {},
   "outputs": [],
   "source": [
    "# Split data (80% train, 20% test)\n",
    "X_train, X_test, y_train, y_test = train_test_split(X, y, test_size=0.2, random_state=42)\n"
   ]
  },
  {
   "cell_type": "code",
   "execution_count": 53,
   "metadata": {},
   "outputs": [
    {
     "name": "stdout",
     "output_type": "stream",
     "text": [
      "(1576,)\n",
      "(394,)\n"
     ]
    }
   ],
   "source": [
    "print(y_train.shape)\n",
    "print(y_test.shape)"
   ]
  },
  {
   "cell_type": "code",
   "execution_count": 54,
   "metadata": {},
   "outputs": [
    {
     "data": {
      "text/plain": [
       "ASD_Traits\n",
       "1    856\n",
       "0    720\n",
       "Name: count, dtype: int64"
      ]
     },
     "execution_count": 54,
     "metadata": {},
     "output_type": "execute_result"
    }
   ],
   "source": [
    "y_train.value_counts()"
   ]
  },
  {
   "cell_type": "code",
   "execution_count": 55,
   "metadata": {},
   "outputs": [
    {
     "data": {
      "text/plain": [
       "ASD_Traits\n",
       "1    206\n",
       "0    188\n",
       "Name: count, dtype: int64"
      ]
     },
     "execution_count": 55,
     "metadata": {},
     "output_type": "execute_result"
    }
   ],
   "source": [
    "y_test.value_counts()"
   ]
  },
  {
   "cell_type": "code",
   "execution_count": 56,
   "metadata": {},
   "outputs": [],
   "source": [
    "smote=SMOTE(random_state=42)"
   ]
  },
  {
   "cell_type": "code",
   "execution_count": 57,
   "metadata": {},
   "outputs": [],
   "source": [
    "X_train_smote, y_train_smote = smote.fit_resample(X_train,y_train)"
   ]
  },
  {
   "cell_type": "code",
   "execution_count": 58,
   "metadata": {},
   "outputs": [
    {
     "name": "stdout",
     "output_type": "stream",
     "text": [
      "(1712,)\n"
     ]
    }
   ],
   "source": [
    "print(y_train_smote.shape)"
   ]
  },
  {
   "cell_type": "code",
   "execution_count": 59,
   "metadata": {},
   "outputs": [
    {
     "name": "stdout",
     "output_type": "stream",
     "text": [
      "ASD_Traits\n",
      "1    856\n",
      "0    856\n",
      "Name: count, dtype: int64\n"
     ]
    }
   ],
   "source": [
    "print(y_train_smote.value_counts())"
   ]
  },
  {
   "cell_type": "markdown",
   "metadata": {},
   "source": [
    "MODEL TRAINING"
   ]
  },
  {
   "cell_type": "code",
   "execution_count": 60,
   "metadata": {},
   "outputs": [
    {
     "data": {
      "text/html": [
       "<style>#sk-container-id-1 {\n",
       "  /* Definition of color scheme common for light and dark mode */\n",
       "  --sklearn-color-text: black;\n",
       "  --sklearn-color-line: gray;\n",
       "  /* Definition of color scheme for unfitted estimators */\n",
       "  --sklearn-color-unfitted-level-0: #fff5e6;\n",
       "  --sklearn-color-unfitted-level-1: #f6e4d2;\n",
       "  --sklearn-color-unfitted-level-2: #ffe0b3;\n",
       "  --sklearn-color-unfitted-level-3: chocolate;\n",
       "  /* Definition of color scheme for fitted estimators */\n",
       "  --sklearn-color-fitted-level-0: #f0f8ff;\n",
       "  --sklearn-color-fitted-level-1: #d4ebff;\n",
       "  --sklearn-color-fitted-level-2: #b3dbfd;\n",
       "  --sklearn-color-fitted-level-3: cornflowerblue;\n",
       "\n",
       "  /* Specific color for light theme */\n",
       "  --sklearn-color-text-on-default-background: var(--sg-text-color, var(--theme-code-foreground, var(--jp-content-font-color1, black)));\n",
       "  --sklearn-color-background: var(--sg-background-color, var(--theme-background, var(--jp-layout-color0, white)));\n",
       "  --sklearn-color-border-box: var(--sg-text-color, var(--theme-code-foreground, var(--jp-content-font-color1, black)));\n",
       "  --sklearn-color-icon: #696969;\n",
       "\n",
       "  @media (prefers-color-scheme: dark) {\n",
       "    /* Redefinition of color scheme for dark theme */\n",
       "    --sklearn-color-text-on-default-background: var(--sg-text-color, var(--theme-code-foreground, var(--jp-content-font-color1, white)));\n",
       "    --sklearn-color-background: var(--sg-background-color, var(--theme-background, var(--jp-layout-color0, #111)));\n",
       "    --sklearn-color-border-box: var(--sg-text-color, var(--theme-code-foreground, var(--jp-content-font-color1, white)));\n",
       "    --sklearn-color-icon: #878787;\n",
       "  }\n",
       "}\n",
       "\n",
       "#sk-container-id-1 {\n",
       "  color: var(--sklearn-color-text);\n",
       "}\n",
       "\n",
       "#sk-container-id-1 pre {\n",
       "  padding: 0;\n",
       "}\n",
       "\n",
       "#sk-container-id-1 input.sk-hidden--visually {\n",
       "  border: 0;\n",
       "  clip: rect(1px 1px 1px 1px);\n",
       "  clip: rect(1px, 1px, 1px, 1px);\n",
       "  height: 1px;\n",
       "  margin: -1px;\n",
       "  overflow: hidden;\n",
       "  padding: 0;\n",
       "  position: absolute;\n",
       "  width: 1px;\n",
       "}\n",
       "\n",
       "#sk-container-id-1 div.sk-dashed-wrapped {\n",
       "  border: 1px dashed var(--sklearn-color-line);\n",
       "  margin: 0 0.4em 0.5em 0.4em;\n",
       "  box-sizing: border-box;\n",
       "  padding-bottom: 0.4em;\n",
       "  background-color: var(--sklearn-color-background);\n",
       "}\n",
       "\n",
       "#sk-container-id-1 div.sk-container {\n",
       "  /* jupyter's `normalize.less` sets `[hidden] { display: none; }`\n",
       "     but bootstrap.min.css set `[hidden] { display: none !important; }`\n",
       "     so we also need the `!important` here to be able to override the\n",
       "     default hidden behavior on the sphinx rendered scikit-learn.org.\n",
       "     See: https://github.com/scikit-learn/scikit-learn/issues/21755 */\n",
       "  display: inline-block !important;\n",
       "  position: relative;\n",
       "}\n",
       "\n",
       "#sk-container-id-1 div.sk-text-repr-fallback {\n",
       "  display: none;\n",
       "}\n",
       "\n",
       "div.sk-parallel-item,\n",
       "div.sk-serial,\n",
       "div.sk-item {\n",
       "  /* draw centered vertical line to link estimators */\n",
       "  background-image: linear-gradient(var(--sklearn-color-text-on-default-background), var(--sklearn-color-text-on-default-background));\n",
       "  background-size: 2px 100%;\n",
       "  background-repeat: no-repeat;\n",
       "  background-position: center center;\n",
       "}\n",
       "\n",
       "/* Parallel-specific style estimator block */\n",
       "\n",
       "#sk-container-id-1 div.sk-parallel-item::after {\n",
       "  content: \"\";\n",
       "  width: 100%;\n",
       "  border-bottom: 2px solid var(--sklearn-color-text-on-default-background);\n",
       "  flex-grow: 1;\n",
       "}\n",
       "\n",
       "#sk-container-id-1 div.sk-parallel {\n",
       "  display: flex;\n",
       "  align-items: stretch;\n",
       "  justify-content: center;\n",
       "  background-color: var(--sklearn-color-background);\n",
       "  position: relative;\n",
       "}\n",
       "\n",
       "#sk-container-id-1 div.sk-parallel-item {\n",
       "  display: flex;\n",
       "  flex-direction: column;\n",
       "}\n",
       "\n",
       "#sk-container-id-1 div.sk-parallel-item:first-child::after {\n",
       "  align-self: flex-end;\n",
       "  width: 50%;\n",
       "}\n",
       "\n",
       "#sk-container-id-1 div.sk-parallel-item:last-child::after {\n",
       "  align-self: flex-start;\n",
       "  width: 50%;\n",
       "}\n",
       "\n",
       "#sk-container-id-1 div.sk-parallel-item:only-child::after {\n",
       "  width: 0;\n",
       "}\n",
       "\n",
       "/* Serial-specific style estimator block */\n",
       "\n",
       "#sk-container-id-1 div.sk-serial {\n",
       "  display: flex;\n",
       "  flex-direction: column;\n",
       "  align-items: center;\n",
       "  background-color: var(--sklearn-color-background);\n",
       "  padding-right: 1em;\n",
       "  padding-left: 1em;\n",
       "}\n",
       "\n",
       "\n",
       "/* Toggleable style: style used for estimator/Pipeline/ColumnTransformer box that is\n",
       "clickable and can be expanded/collapsed.\n",
       "- Pipeline and ColumnTransformer use this feature and define the default style\n",
       "- Estimators will overwrite some part of the style using the `sk-estimator` class\n",
       "*/\n",
       "\n",
       "/* Pipeline and ColumnTransformer style (default) */\n",
       "\n",
       "#sk-container-id-1 div.sk-toggleable {\n",
       "  /* Default theme specific background. It is overwritten whether we have a\n",
       "  specific estimator or a Pipeline/ColumnTransformer */\n",
       "  background-color: var(--sklearn-color-background);\n",
       "}\n",
       "\n",
       "/* Toggleable label */\n",
       "#sk-container-id-1 label.sk-toggleable__label {\n",
       "  cursor: pointer;\n",
       "  display: block;\n",
       "  width: 100%;\n",
       "  margin-bottom: 0;\n",
       "  padding: 0.5em;\n",
       "  box-sizing: border-box;\n",
       "  text-align: center;\n",
       "}\n",
       "\n",
       "#sk-container-id-1 label.sk-toggleable__label-arrow:before {\n",
       "  /* Arrow on the left of the label */\n",
       "  content: \"▸\";\n",
       "  float: left;\n",
       "  margin-right: 0.25em;\n",
       "  color: var(--sklearn-color-icon);\n",
       "}\n",
       "\n",
       "#sk-container-id-1 label.sk-toggleable__label-arrow:hover:before {\n",
       "  color: var(--sklearn-color-text);\n",
       "}\n",
       "\n",
       "/* Toggleable content - dropdown */\n",
       "\n",
       "#sk-container-id-1 div.sk-toggleable__content {\n",
       "  max-height: 0;\n",
       "  max-width: 0;\n",
       "  overflow: hidden;\n",
       "  text-align: left;\n",
       "  /* unfitted */\n",
       "  background-color: var(--sklearn-color-unfitted-level-0);\n",
       "}\n",
       "\n",
       "#sk-container-id-1 div.sk-toggleable__content.fitted {\n",
       "  /* fitted */\n",
       "  background-color: var(--sklearn-color-fitted-level-0);\n",
       "}\n",
       "\n",
       "#sk-container-id-1 div.sk-toggleable__content pre {\n",
       "  margin: 0.2em;\n",
       "  border-radius: 0.25em;\n",
       "  color: var(--sklearn-color-text);\n",
       "  /* unfitted */\n",
       "  background-color: var(--sklearn-color-unfitted-level-0);\n",
       "}\n",
       "\n",
       "#sk-container-id-1 div.sk-toggleable__content.fitted pre {\n",
       "  /* unfitted */\n",
       "  background-color: var(--sklearn-color-fitted-level-0);\n",
       "}\n",
       "\n",
       "#sk-container-id-1 input.sk-toggleable__control:checked~div.sk-toggleable__content {\n",
       "  /* Expand drop-down */\n",
       "  max-height: 200px;\n",
       "  max-width: 100%;\n",
       "  overflow: auto;\n",
       "}\n",
       "\n",
       "#sk-container-id-1 input.sk-toggleable__control:checked~label.sk-toggleable__label-arrow:before {\n",
       "  content: \"▾\";\n",
       "}\n",
       "\n",
       "/* Pipeline/ColumnTransformer-specific style */\n",
       "\n",
       "#sk-container-id-1 div.sk-label input.sk-toggleable__control:checked~label.sk-toggleable__label {\n",
       "  color: var(--sklearn-color-text);\n",
       "  background-color: var(--sklearn-color-unfitted-level-2);\n",
       "}\n",
       "\n",
       "#sk-container-id-1 div.sk-label.fitted input.sk-toggleable__control:checked~label.sk-toggleable__label {\n",
       "  background-color: var(--sklearn-color-fitted-level-2);\n",
       "}\n",
       "\n",
       "/* Estimator-specific style */\n",
       "\n",
       "/* Colorize estimator box */\n",
       "#sk-container-id-1 div.sk-estimator input.sk-toggleable__control:checked~label.sk-toggleable__label {\n",
       "  /* unfitted */\n",
       "  background-color: var(--sklearn-color-unfitted-level-2);\n",
       "}\n",
       "\n",
       "#sk-container-id-1 div.sk-estimator.fitted input.sk-toggleable__control:checked~label.sk-toggleable__label {\n",
       "  /* fitted */\n",
       "  background-color: var(--sklearn-color-fitted-level-2);\n",
       "}\n",
       "\n",
       "#sk-container-id-1 div.sk-label label.sk-toggleable__label,\n",
       "#sk-container-id-1 div.sk-label label {\n",
       "  /* The background is the default theme color */\n",
       "  color: var(--sklearn-color-text-on-default-background);\n",
       "}\n",
       "\n",
       "/* On hover, darken the color of the background */\n",
       "#sk-container-id-1 div.sk-label:hover label.sk-toggleable__label {\n",
       "  color: var(--sklearn-color-text);\n",
       "  background-color: var(--sklearn-color-unfitted-level-2);\n",
       "}\n",
       "\n",
       "/* Label box, darken color on hover, fitted */\n",
       "#sk-container-id-1 div.sk-label.fitted:hover label.sk-toggleable__label.fitted {\n",
       "  color: var(--sklearn-color-text);\n",
       "  background-color: var(--sklearn-color-fitted-level-2);\n",
       "}\n",
       "\n",
       "/* Estimator label */\n",
       "\n",
       "#sk-container-id-1 div.sk-label label {\n",
       "  font-family: monospace;\n",
       "  font-weight: bold;\n",
       "  display: inline-block;\n",
       "  line-height: 1.2em;\n",
       "}\n",
       "\n",
       "#sk-container-id-1 div.sk-label-container {\n",
       "  text-align: center;\n",
       "}\n",
       "\n",
       "/* Estimator-specific */\n",
       "#sk-container-id-1 div.sk-estimator {\n",
       "  font-family: monospace;\n",
       "  border: 1px dotted var(--sklearn-color-border-box);\n",
       "  border-radius: 0.25em;\n",
       "  box-sizing: border-box;\n",
       "  margin-bottom: 0.5em;\n",
       "  /* unfitted */\n",
       "  background-color: var(--sklearn-color-unfitted-level-0);\n",
       "}\n",
       "\n",
       "#sk-container-id-1 div.sk-estimator.fitted {\n",
       "  /* fitted */\n",
       "  background-color: var(--sklearn-color-fitted-level-0);\n",
       "}\n",
       "\n",
       "/* on hover */\n",
       "#sk-container-id-1 div.sk-estimator:hover {\n",
       "  /* unfitted */\n",
       "  background-color: var(--sklearn-color-unfitted-level-2);\n",
       "}\n",
       "\n",
       "#sk-container-id-1 div.sk-estimator.fitted:hover {\n",
       "  /* fitted */\n",
       "  background-color: var(--sklearn-color-fitted-level-2);\n",
       "}\n",
       "\n",
       "/* Specification for estimator info (e.g. \"i\" and \"?\") */\n",
       "\n",
       "/* Common style for \"i\" and \"?\" */\n",
       "\n",
       ".sk-estimator-doc-link,\n",
       "a:link.sk-estimator-doc-link,\n",
       "a:visited.sk-estimator-doc-link {\n",
       "  float: right;\n",
       "  font-size: smaller;\n",
       "  line-height: 1em;\n",
       "  font-family: monospace;\n",
       "  background-color: var(--sklearn-color-background);\n",
       "  border-radius: 1em;\n",
       "  height: 1em;\n",
       "  width: 1em;\n",
       "  text-decoration: none !important;\n",
       "  margin-left: 1ex;\n",
       "  /* unfitted */\n",
       "  border: var(--sklearn-color-unfitted-level-1) 1pt solid;\n",
       "  color: var(--sklearn-color-unfitted-level-1);\n",
       "}\n",
       "\n",
       ".sk-estimator-doc-link.fitted,\n",
       "a:link.sk-estimator-doc-link.fitted,\n",
       "a:visited.sk-estimator-doc-link.fitted {\n",
       "  /* fitted */\n",
       "  border: var(--sklearn-color-fitted-level-1) 1pt solid;\n",
       "  color: var(--sklearn-color-fitted-level-1);\n",
       "}\n",
       "\n",
       "/* On hover */\n",
       "div.sk-estimator:hover .sk-estimator-doc-link:hover,\n",
       ".sk-estimator-doc-link:hover,\n",
       "div.sk-label-container:hover .sk-estimator-doc-link:hover,\n",
       ".sk-estimator-doc-link:hover {\n",
       "  /* unfitted */\n",
       "  background-color: var(--sklearn-color-unfitted-level-3);\n",
       "  color: var(--sklearn-color-background);\n",
       "  text-decoration: none;\n",
       "}\n",
       "\n",
       "div.sk-estimator.fitted:hover .sk-estimator-doc-link.fitted:hover,\n",
       ".sk-estimator-doc-link.fitted:hover,\n",
       "div.sk-label-container:hover .sk-estimator-doc-link.fitted:hover,\n",
       ".sk-estimator-doc-link.fitted:hover {\n",
       "  /* fitted */\n",
       "  background-color: var(--sklearn-color-fitted-level-3);\n",
       "  color: var(--sklearn-color-background);\n",
       "  text-decoration: none;\n",
       "}\n",
       "\n",
       "/* Span, style for the box shown on hovering the info icon */\n",
       ".sk-estimator-doc-link span {\n",
       "  display: none;\n",
       "  z-index: 9999;\n",
       "  position: relative;\n",
       "  font-weight: normal;\n",
       "  right: .2ex;\n",
       "  padding: .5ex;\n",
       "  margin: .5ex;\n",
       "  width: min-content;\n",
       "  min-width: 20ex;\n",
       "  max-width: 50ex;\n",
       "  color: var(--sklearn-color-text);\n",
       "  box-shadow: 2pt 2pt 4pt #999;\n",
       "  /* unfitted */\n",
       "  background: var(--sklearn-color-unfitted-level-0);\n",
       "  border: .5pt solid var(--sklearn-color-unfitted-level-3);\n",
       "}\n",
       "\n",
       ".sk-estimator-doc-link.fitted span {\n",
       "  /* fitted */\n",
       "  background: var(--sklearn-color-fitted-level-0);\n",
       "  border: var(--sklearn-color-fitted-level-3);\n",
       "}\n",
       "\n",
       ".sk-estimator-doc-link:hover span {\n",
       "  display: block;\n",
       "}\n",
       "\n",
       "/* \"?\"-specific style due to the `<a>` HTML tag */\n",
       "\n",
       "#sk-container-id-1 a.estimator_doc_link {\n",
       "  float: right;\n",
       "  font-size: 1rem;\n",
       "  line-height: 1em;\n",
       "  font-family: monospace;\n",
       "  background-color: var(--sklearn-color-background);\n",
       "  border-radius: 1rem;\n",
       "  height: 1rem;\n",
       "  width: 1rem;\n",
       "  text-decoration: none;\n",
       "  /* unfitted */\n",
       "  color: var(--sklearn-color-unfitted-level-1);\n",
       "  border: var(--sklearn-color-unfitted-level-1) 1pt solid;\n",
       "}\n",
       "\n",
       "#sk-container-id-1 a.estimator_doc_link.fitted {\n",
       "  /* fitted */\n",
       "  border: var(--sklearn-color-fitted-level-1) 1pt solid;\n",
       "  color: var(--sklearn-color-fitted-level-1);\n",
       "}\n",
       "\n",
       "/* On hover */\n",
       "#sk-container-id-1 a.estimator_doc_link:hover {\n",
       "  /* unfitted */\n",
       "  background-color: var(--sklearn-color-unfitted-level-3);\n",
       "  color: var(--sklearn-color-background);\n",
       "  text-decoration: none;\n",
       "}\n",
       "\n",
       "#sk-container-id-1 a.estimator_doc_link.fitted:hover {\n",
       "  /* fitted */\n",
       "  background-color: var(--sklearn-color-fitted-level-3);\n",
       "}\n",
       "</style><div id=\"sk-container-id-1\" class=\"sk-top-container\"><div class=\"sk-text-repr-fallback\"><pre>RandomForestClassifier(random_state=42)</pre><b>In a Jupyter environment, please rerun this cell to show the HTML representation or trust the notebook. <br />On GitHub, the HTML representation is unable to render, please try loading this page with nbviewer.org.</b></div><div class=\"sk-container\" hidden><div class=\"sk-item\"><div class=\"sk-estimator fitted sk-toggleable\"><input class=\"sk-toggleable__control sk-hidden--visually\" id=\"sk-estimator-id-1\" type=\"checkbox\" checked><label for=\"sk-estimator-id-1\" class=\"sk-toggleable__label fitted sk-toggleable__label-arrow fitted\">&nbsp;&nbsp;RandomForestClassifier<a class=\"sk-estimator-doc-link fitted\" rel=\"noreferrer\" target=\"_blank\" href=\"https://scikit-learn.org/1.5/modules/generated/sklearn.ensemble.RandomForestClassifier.html\">?<span>Documentation for RandomForestClassifier</span></a><span class=\"sk-estimator-doc-link fitted\">i<span>Fitted</span></span></label><div class=\"sk-toggleable__content fitted\"><pre>RandomForestClassifier(random_state=42)</pre></div> </div></div></div></div>"
      ],
      "text/plain": [
       "RandomForestClassifier(random_state=42)"
      ]
     },
     "execution_count": 60,
     "metadata": {},
     "output_type": "execute_result"
    }
   ],
   "source": [
    "# Train Random Forest Classifier\n",
    "rf_model = RandomForestClassifier(n_estimators=100, random_state=42)\n",
    "rf_model.fit(X_train, y_train)\n"
   ]
  },
  {
   "cell_type": "code",
   "execution_count": 61,
   "metadata": {},
   "outputs": [
    {
     "data": {
      "text/plain": [
       "(0.8299492385786802, 0.986013986013986, 0.6844660194174758, 0.8080229226361032)"
      ]
     },
     "execution_count": 61,
     "metadata": {},
     "output_type": "execute_result"
    }
   ],
   "source": [
    "# Predictions\n",
    "y_pred = rf_model.predict(X_test)\n",
    "\n",
    "# Evaluate model performance\n",
    "accuracy = accuracy_score(y_test, y_pred)\n",
    "precision = precision_score(y_test, y_pred)\n",
    "recall = recall_score(y_test, y_pred)\n",
    "f1 = f1_score(y_test, y_pred)\n",
    "\n",
    "accuracy, precision, recall, f1\n"
   ]
  },
  {
   "cell_type": "markdown",
   "metadata": {},
   "source": [
    "The Random Forest classifier achieved the following performance:\n",
    "Accuracy: 82.99% (Overall correctness of the model)\n",
    "Precision: 98.60% (How many predicted ASD cases were actually ASD)\n",
    "Recall: 68.44% (How many actual ASD cases were correctly identified)\n",
    "F1-Score: 80.80% (Balanced measure of precision and recall)\n",
    "Next Steps\n",
    "•\tThe model performs well but has a lower recall (misses some ASD cases).\n",
    "•\tWe can improve recall by tuning hyperparameters, balancing the dataset, or trying other models"
   ]
  },
  {
   "cell_type": "markdown",
   "metadata": {},
   "source": [
    "Implement hyperparameter tuning for Random Forest:"
   ]
  },
  {
   "cell_type": "code",
   "execution_count": 62,
   "metadata": {},
   "outputs": [
    {
     "name": "stdout",
     "output_type": "stream",
     "text": [
      "Best Parameters: {'n_estimators': 100, 'min_samples_split': 2, 'min_samples_leaf': 2, 'max_features': 'sqrt', 'max_depth': 30}\n",
      "Optimized Random Forest Accuracy: 0.8299492385786802\n"
     ]
    }
   ],
   "source": [
    "from sklearn.ensemble import RandomForestClassifier\n",
    "from sklearn.model_selection import RandomizedSearchCV\n",
    "from sklearn.metrics import accuracy_score\n",
    "\n",
    "# Define the parameter grid\n",
    "param_grid = {\n",
    "    'n_estimators': [50, 100, 200, 300],  \n",
    "    'max_depth': [10, 20, 30, None],  \n",
    "    'min_samples_split': [2, 5, 10],  \n",
    "    'min_samples_leaf': [1, 2, 4],  \n",
    "    'max_features': ['sqrt', 'log2']  \n",
    "}\n",
    "\n",
    "# Initialize Random Forest Classifier\n",
    "rf = RandomForestClassifier(random_state=42)\n",
    "\n",
    "# Perform Randomized Search\n",
    "random_search = RandomizedSearchCV(\n",
    "    estimator=rf, param_distributions=param_grid,\n",
    "    n_iter=10, cv=5, scoring='accuracy', n_jobs=-1, random_state=42\n",
    ")\n",
    "\n",
    "# Fit on training data\n",
    "random_search.fit(X_train, y_train)\n",
    "\n",
    "# Get best parameters\n",
    "best_params = random_search.best_params_\n",
    "print(\"Best Parameters:\", best_params)\n",
    "\n",
    "# Evaluate best model\n",
    "best_rf = random_search.best_estimator_\n",
    "y_pred = best_rf.predict(X_test)\n",
    "accuracy = accuracy_score(y_test, y_pred)\n",
    "print(\"Optimized Random Forest Accuracy:\", accuracy)\n"
   ]
  },
  {
   "cell_type": "markdown",
   "metadata": {},
   "source": [
    "This approach finds the best hyperparameters and improves the Random Forest model’s performance. You can further fine-tune using GridSearchCV for more precise tuning if needed."
   ]
  },
  {
   "cell_type": "markdown",
   "metadata": {},
   "source": [
    "<!-- Logistic Regression model  -->"
   ]
  },
  {
   "cell_type": "code",
   "execution_count": 63,
   "metadata": {},
   "outputs": [
    {
     "data": {
      "text/plain": [
       "(0.7538071065989848,\n",
       " 0.8707482993197279,\n",
       " 0.6213592233009708,\n",
       " 0.7252124645892352)"
      ]
     },
     "execution_count": 63,
     "metadata": {},
     "output_type": "execute_result"
    }
   ],
   "source": [
    "\n",
    "\n",
    "# Train Logistic Regression model\n",
    "log_reg = LogisticRegression(max_iter=1000, random_state=42)\n",
    "log_reg.fit(X_train, y_train)\n",
    "\n",
    "# Predictions\n",
    "y_pred_log = log_reg.predict(X_test)\n",
    "\n",
    "# Evaluate model performance\n",
    "accuracy_log = accuracy_score(y_test, y_pred_log)\n",
    "precision_log = precision_score(y_test, y_pred_log)\n",
    "recall_log = recall_score(y_test, y_pred_log)\n",
    "f1_log = f1_score(y_test, y_pred_log)\n",
    "\n",
    "accuracy_log, precision_log, recall_log, f1_log\n"
   ]
  },
  {
   "cell_type": "markdown",
   "metadata": {},
   "source": [
    "The Logistic Regression model performed as follows:\n",
    "Accuracy: 75.38% \n",
    "Precision: 87.07% \n",
    "Recall: 62.13% \n",
    "F1-Score: 72.52% \n",
    "\n",
    "Comparison with Random Forest\n",
    "•\tLogistic Regression is weaker in all aspects compared to Random Forest.\n",
    "•\tRandom Forest performs better in both recall (detecting ASD cases) and precision.\n",
    "\n"
   ]
  },
  {
   "cell_type": "code",
   "execution_count": 64,
   "metadata": {},
   "outputs": [
    {
     "data": {
      "text/plain": [
       "(0.8274111675126904,\n",
       " 0.9791666666666666,\n",
       " 0.6844660194174758,\n",
       " 0.8057142857142857)"
      ]
     },
     "execution_count": 64,
     "metadata": {},
     "output_type": "execute_result"
    }
   ],
   "source": [
    "\n",
    "\n",
    "# Train Decision Tree model\n",
    "dt_model = DecisionTreeClassifier(random_state=42)\n",
    "dt_model.fit(X_train, y_train)\n",
    "\n",
    "# Predictions\n",
    "y_pred_dt = dt_model.predict(X_test)\n",
    "\n",
    "# Evaluate model performance\n",
    "accuracy_dt = accuracy_score(y_test, y_pred_dt)\n",
    "precision_dt = precision_score(y_test, y_pred_dt)\n",
    "recall_dt = recall_score(y_test, y_pred_dt)\n",
    "f1_dt = f1_score(y_test, y_pred_dt)\n",
    "\n",
    "accuracy_dt, precision_dt, recall_dt, f1_dt\n"
   ]
  },
  {
   "cell_type": "markdown",
   "metadata": {},
   "source": [
    "Accuracy: 82.74% \n",
    "Precision: 97.91%\n",
    "Recall: 68.44% \n",
    "F1-Score: 80.57% \n"
   ]
  },
  {
   "cell_type": "markdown",
   "metadata": {},
   "source": [
    "Comparing Predictions and Evaluate model performance"
   ]
  },
  {
   "cell_type": "code",
   "execution_count": 69,
   "metadata": {},
   "outputs": [
    {
     "name": "stderr",
     "output_type": "stream",
     "text": [
      "C:\\Users\\sitha\\AppData\\Local\\Temp\\ipykernel_2552\\2041182185.py:20: FutureWarning: \n",
      "\n",
      "Passing `palette` without assigning `hue` is deprecated and will be removed in v0.14.0. Assign the `x` variable to `hue` and set `legend=False` for the same effect.\n",
      "\n",
      "  sns.barplot(x=\"Model\", y=\"Accuracy\", data=df_melted, palette=\"coolwarm\", errorbar=None)\n"
     ]
    },
    {
     "data": {
      "image/png": "[encoded data removed]",
      "text/plain": [
       "<Figure size 800x300 with 1 Axes>"
      ]
     },
     "metadata": {},
     "output_type": "display_data"
    }
   ],
   "source": [
    "import seaborn as sns\n",
    "import matplotlib.pyplot as plt\n",
    "import numpy as np\n",
    "import pandas as pd\n",
    "\n",
    "# Model performance data\n",
    "model_results = {\n",
    "    'Random Forest Classifier': np.array([0.8299492385786802, 0.986013986013986, 0.6844660194174758, 0.8080229226361032]),\n",
    "    'Logistic Regression': np.array([0.7538071065989848,0.8707482993197279,0.6213592233009708,0.7252124645892352]),\n",
    "    'Decision Tree model': np.array([0.8274111675126904,0.9791666666666666,0.6844660194174758,0.8057142857142857])}\n",
    "\n",
    "# Convert to DataFrame\n",
    "df = pd.DataFrame(model_results)\n",
    "\n",
    "# Melt the DataFrame for Seaborn\n",
    "df_melted = df.melt(var_name=\"Model\", value_name=\"Accuracy\")\n",
    "\n",
    "# Plot using Seaborn\n",
    "plt.figure(figsize=(8, 3))\n",
    "sns.barplot(x=\"Model\", y=\"Accuracy\", data=df_melted, palette=\"coolwarm\", errorbar=None)\n",
    "\n",
    "# Add labels and title\n",
    "plt.xlabel(\"Machine Learning Model\")\n",
    "plt.ylabel(\"Accuracy Score\")\n",
    "plt.title(\"Model Accuracy Comparison\")\n",
    "plt.xticks(rotation=15)  # Rotate x labels for better readability\n",
    "plt.ylim(0.7, 0.9)  # Adjust y-axis for better visualization\n",
    "\n",
    "# Show plot\n",
    "plt.show()"
   ]
  },
  {
   "cell_type": "markdown",
   "metadata": {},
   "source": [
    "Comparison of All Models\n",
    "Model\t             Accuracy\tPrecision\tRecall\tF1-Score\n",
    "Random Forest\t        82.99% \t98.60% \t    68.44% \t80.80% \n",
    "Logistic Regression\t    75.38%\t 87.07%\t    62.13% \t72.52% \n",
    "Decision Tree\t        82.74%\t97.91% \t    68.44%\t80.57%"
   ]
  },
  {
   "cell_type": "markdown",
   "metadata": {},
   "source": [
    "•\tRandom Forest is the best model so far.\n",
    "•\tDecision Tree is slightly worse but still strong.\n",
    "•\tLogistic Regression performs the worst in all metrics.\n"
   ]
  },
  {
   "cell_type": "code",
   "execution_count": 66,
   "metadata": {},
   "outputs": [
    {
     "name": "stdout",
     "output_type": "stream",
     "text": [
      "ASD Traits Prediction: Yes\n"
     ]
    }
   ],
   "source": [
    "import joblib\n",
    "\n",
    "\n",
    "# Assume rf is your trained model\n",
    "joblib.dump(rf, \"asd_rf_model.pkl\")\n",
    "\n",
    "\n",
    "\n",
    "# Ensure feature names match the training dataset\n",
    "corrected_data = pd.DataFrame([{\n",
    "    \"Feature_A9\": 2, \"Feature_A6\": 1, \"Feature_A7\": 0, \"Feature_A5\": 2, \"Feature_A1\": 1,\n",
    "    \"Feature_A4\": 1, \"Feature_A2\": 0, \"Qchat_Score\": 8, \"Feature_A8\": 2,\n",
    "    \"Age\": 3, \"Autism_Rating_Scal\": 20,\n",
    "    \"Social_Scale\": 75\n",
    "}])\n",
    "\n",
    "# Ensure columns match\n",
    "corrected_data = corrected_data[X_train.columns]  # Use same order as training data\n",
    "\n",
    "# Make a prediction\n",
    "prediction = rf_model.predict(corrected_data)\n",
    "print(\"ASD Traits Prediction:\", \"Yes\" if prediction[0] == 1 else \"No\")\n"
   ]
  },
  {
   "cell_type": "code",
   "execution_count": 67,
   "metadata": {},
   "outputs": [
    {
     "name": "stdout",
     "output_type": "stream",
     "text": [
      "Model saved successfully at asd_rf_model.pkl!\n"
     ]
    }
   ],
   "source": [
    "from sklearn.ensemble import RandomForestClassifier\n",
    "import joblib\n",
    "\n",
    "# Define and train the model\n",
    "rf_model_new = RandomForestClassifier(random_state=42)\n",
    "rf_model_new.fit(X_train, y_train)\n",
    "\n",
    "# Save the trained model\n",
    "model_path = \"asd_rf_model.pkl\"\n",
    "joblib.dump(rf_model_new, model_path)\n",
    "\n",
    "print(f\"Model saved successfully at {model_path}!\")\n",
    "\n"
   ]
  },
  {
   "cell_type": "code",
   "execution_count": 68,
   "metadata": {},
   "outputs": [
    {
     "name": "stdout",
     "output_type": "stream",
     "text": [
      "Model saved successfully at models\\asd_rf_model.pkl!\n"
     ]
    }
   ],
   "source": [
    "import os\n",
    "\n",
    "# Define a valid local directory\n",
    "save_dir = \"models\"  # Folder name\n",
    "os.makedirs(save_dir, exist_ok=True)  # Create folder if it doesn't exist\n",
    "\n",
    "# Save the model inside the folder\n",
    "model_path = os.path.join(save_dir, \"asd_rf_model.pkl\")\n",
    "joblib.dump(rf_model_new, model_path)\n",
    "\n",
    "print(f\"Model saved successfully at {model_path}!\")\n"
   ]
  }
 ],
 "metadata": {
  "kernelspec": {
   "display_name": "Python 3",
   "language": "python",
   "name": "python3"
  },
  "language_info": {
   "codemirror_mode": {
    "name": "ipython",
    "version": 3
   },
   "file_extension": ".py",
   "mimetype": "text/x-python",
   "name": "python",
   "nbconvert_exporter": "python",
   "pygments_lexer": "ipython3",
   "version": "3.10.11"
  }
 },
 "nbformat": 4,
 "nbformat_minor": 2
}
